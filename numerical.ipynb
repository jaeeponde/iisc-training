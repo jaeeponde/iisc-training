{
 "cells": [
  {
   "cell_type": "code",
   "execution_count": 5,
   "metadata": {},
   "outputs": [],
   "source": [
    "#Euler's method \n",
    "\n",
    "import math\n",
    "import numpy as np\n",
    "import matplotlib.pyplot as plt"
   ]
  },
  {
   "cell_type": "code",
   "execution_count": 8,
   "metadata": {},
   "outputs": [
    {
     "ename": "TypeError",
     "evalue": "only length-1 arrays can be converted to Python scalars",
     "output_type": "error",
     "traceback": [
      "\u001b[0;31m---------------------------------------------------------------------------\u001b[0m",
      "\u001b[0;31mTypeError\u001b[0m                                 Traceback (most recent call last)",
      "Cell \u001b[0;32mIn[8], line 41\u001b[0m\n\u001b[1;32m     39\u001b[0m \u001b[39mfor\u001b[39;00m x \u001b[39min\u001b[39;00m \u001b[39mrange\u001b[39m (iterations): \n\u001b[1;32m     40\u001b[0m     (t1,y1)\u001b[39m=\u001b[39meulers_method(t, y, h, steps)\n\u001b[0;32m---> 41\u001b[0m     y1 \u001b[39m=\u001b[39m y\u001b[39m+\u001b[39m ((\u001b[39m1\u001b[39m\u001b[39m/\u001b[39m\u001b[39m2\u001b[39m)\u001b[39m*\u001b[39m(h))(func(t,y)\u001b[39m+\u001b[39mfunc(t1,y1))\n\u001b[1;32m     42\u001b[0m     y\u001b[39m=\u001b[39my1\n\u001b[1;32m     43\u001b[0m     t\u001b[39m=\u001b[39mt\u001b[39m+\u001b[39mh\n",
      "Cell \u001b[0;32mIn[8], line 4\u001b[0m, in \u001b[0;36mfunc\u001b[0;34m(t, y)\u001b[0m\n\u001b[1;32m      3\u001b[0m \u001b[39mdef\u001b[39;00m \u001b[39mfunc\u001b[39m(t,y):\n\u001b[0;32m----> 4\u001b[0m     \u001b[39mreturn\u001b[39;00m math\u001b[39m.\u001b[39;49mexp(\u001b[39m-\u001b[39;49m\u001b[39m15\u001b[39;49m\u001b[39m*\u001b[39;49mt)\n",
      "\u001b[0;31mTypeError\u001b[0m: only length-1 arrays can be converted to Python scalars"
     ]
    }
   ],
   "source": [
    "#y=e^15t \n",
    "\n",
    "def func(t,y):\n",
    "    return math.exp(-15*t)\n",
    "\n",
    "def eulers_method(t0, y0, h, steps):\n",
    "    # Initialize arrays to store t and y values\n",
    "    t = np.zeros(steps)\n",
    "    y = np.zeros(steps)\n",
    "    \n",
    "    # Set initial values\n",
    "    t[0] = t0\n",
    "    y[0] = y0\n",
    "    \n",
    "    # Iterate through time steps\n",
    "    for i in range(1, steps):\n",
    "        # Update t\n",
    "        t[i] = t[i - 1] + h\n",
    "        # Update y using Euler's method\n",
    "        y[i] = y[i - 1] + h * (-15 * y[i - 1])  # y' = -15y\n",
    "    \n",
    "    # Return t and y values\n",
    "    plotlist2.append(t)\n",
    "    return t, y\n",
    "\n",
    "\n",
    "\n",
    "iterations=1000\n",
    "x=1\n",
    "y=1\n",
    "h=0.01\n",
    "t=0\n",
    "steps = 100\n",
    "\n",
    "\n",
    "plotlist1=[]\n",
    "plotlist2=[]\n",
    "\n",
    "for x in range (iterations): \n",
    "    (t1,y1)=eulers_method(t, y, h, steps)\n",
    "    y1 = y+ ((1/2)*(h))(func(t,y)+func(t1,y1))\n",
    "    y=y1\n",
    "    t=t+h\n",
    "    plotlist1.append(y)\n",
    "\n",
    "plt.plot(plotlist1)\n",
    "\n",
    "\n",
    "    "
   ]
  },
  {
   "cell_type": "code",
   "execution_count": null,
   "metadata": {},
   "outputs": [],
   "source": []
  }
 ],
 "metadata": {
  "kernelspec": {
   "display_name": "phcco",
   "language": "python",
   "name": "python3"
  },
  "language_info": {
   "codemirror_mode": {
    "name": "ipython",
    "version": 3
   },
   "file_extension": ".py",
   "mimetype": "text/x-python",
   "name": "python",
   "nbconvert_exporter": "python",
   "pygments_lexer": "ipython3",
   "version": "3.12.3"
  },
  "orig_nbformat": 4
 },
 "nbformat": 4,
 "nbformat_minor": 2
}
