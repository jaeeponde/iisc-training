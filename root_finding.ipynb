{
 "cells": [
  {
   "cell_type": "code",
   "execution_count": 1,
   "metadata": {},
   "outputs": [],
   "source": [
    "def bisection(f, a, b, tol = 1.e-6):\n",
    "    iteration = 0 #initialize counter iteration\n",
    "    if (f(a) * f(b) < 0.0): # check if there is a root\n",
    "        while ((b-a) > tol): # check if the end-points converge \n",
    "            iteration = iteration + 1\n",
    "            x = (a + b)/2\n",
    "            if (f(a) * f(x) < 0.0):\n",
    "                b=x\n",
    "            elif (f(x) * f(b) < 0.0):\n",
    "                a=x \n",
    "            else:\n",
    "                break\n",
    "            print(iteration, x)\n",
    "    else:\n",
    "        print('failure')\n",
    "    return x\n",
    "# returns the midpoint of the final interval"
   ]
  },
  {
   "cell_type": "code",
   "execution_count": 3,
   "metadata": {},
   "outputs": [
    {
     "name": "stdout",
     "output_type": "stream",
     "text": [
      "1 2.0\n",
      "2 2.5\n",
      "3 2.75\n",
      "4 2.875\n",
      "5 2.9375\n",
      "6 2.96875\n",
      "7 2.984375\n",
      "8 2.9921875\n",
      "9 2.98828125\n",
      "10 2.990234375\n",
      "11 2.9912109375\n",
      "12 2.99072265625\n",
      "13 2.990966796875\n",
      "14 2.9908447265625\n",
      "15 2.99078369140625\n",
      "The approximate solution x is:  2.99078369140625\n",
      "And the value f(x) is:  -0.000857020992090618\n"
     ]
    }
   ],
   "source": [
    "import numpy\n",
    "import numpy as np\n",
    "def f(x):\n",
    "    y = np.exp(x) * np.sin(x) - x\n",
    "    return y\n",
    "a = 1.0\n",
    "b = 3.0\n",
    "tol = 1.e-4\n",
    "x = bisection(f, a, b, tol)\n",
    "print('The approximate solution x is: ', x)\n",
    "print('And the value f(x) is: ', f(x))"
   ]
  },
  {
   "cell_type": "code",
   "execution_count": 13,
   "metadata": {},
   "outputs": [],
   "source": [
    "def findTheDifference(s,t):\n",
    "\n",
    "        slist=list(s)\n",
    "        tlist=list(t)\n",
    "        for i in range (len(tlist)):\n",
    "            count = 0\n",
    "            for j in range (len(slist)):\n",
    "                print(\"running\")\n",
    "                if tlist[i]==slist[j]:\n",
    "                    del tlist[i]\n",
    "                    del slist[j]\n",
    "                    count=1\n",
    "                    break\n",
    "            if count==0 or len(slist)==0:\n",
    "                return tlist[i]"
   ]
  },
  {
   "cell_type": "code",
   "execution_count": 14,
   "metadata": {},
   "outputs": [
    {
     "data": {
      "text/plain": [
       "'y'"
      ]
     },
     "execution_count": 14,
     "metadata": {},
     "output_type": "execute_result"
    }
   ],
   "source": [
    "findTheDifference(\"\",\"y\")"
   ]
  }
 ],
 "metadata": {
  "kernelspec": {
   "display_name": "base",
   "language": "python",
   "name": "python3"
  },
  "language_info": {
   "codemirror_mode": {
    "name": "ipython",
    "version": 3
   },
   "file_extension": ".py",
   "mimetype": "text/x-python",
   "name": "python",
   "nbconvert_exporter": "python",
   "pygments_lexer": "ipython3",
   "version": "3.11.5"
  },
  "orig_nbformat": 4
 },
 "nbformat": 4,
 "nbformat_minor": 2
}
